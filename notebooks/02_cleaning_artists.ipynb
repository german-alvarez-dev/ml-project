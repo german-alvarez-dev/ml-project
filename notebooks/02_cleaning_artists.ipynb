{
 "cells": [
  {
   "cell_type": "code",
   "execution_count": 5,
   "id": "fc8015e3",
   "metadata": {},
   "outputs": [],
   "source": [
    "import sys\n",
    "import os\n",
    "\n",
    "import numpy as np\n",
    "\n",
    "sys.path.append(os.path.abspath(os.path.join(os.getcwd(), \"..\")))"
   ]
  },
  {
   "cell_type": "code",
   "execution_count": 2,
   "id": "dee141e5",
   "metadata": {},
   "outputs": [],
   "source": [
    "import importlib\n",
    "import src.data_loader as dl\n",
    "\n",
    "importlib.reload(dl)\n",
    "artists = dl.load_artists()"
   ]
  },
  {
   "cell_type": "code",
   "execution_count": 3,
   "id": "cf9e7870",
   "metadata": {},
   "outputs": [],
   "source": [
    "artists['Nationality'] = artists['Nationality'].fillna('Unknown')\n",
    "artists['Gender'] = artists['Gender'].fillna('Unknown')"
   ]
  },
  {
   "cell_type": "code",
   "execution_count": 4,
   "id": "a1f7f6b4",
   "metadata": {},
   "outputs": [],
   "source": [
    "artists['Gender'] = artists['Gender'].str.strip().str.lower()\n",
    "artists['Nationality'] = artists['Nationality'].str.strip().str.title()"
   ]
  },
  {
   "cell_type": "code",
   "execution_count": 6,
   "id": "afbd195c",
   "metadata": {},
   "outputs": [],
   "source": [
    "artists['EndDate'] = artists['EndDate'].replace(0, np.nan)"
   ]
  },
  {
   "cell_type": "code",
   "execution_count": 7,
   "id": "2984cdb7",
   "metadata": {},
   "outputs": [],
   "source": [
    "artists.to_csv(\"../outputs/artists_clean.csv\", index=False)"
   ]
  },
  {
   "cell_type": "code",
   "execution_count": 8,
   "id": "0bb19925",
   "metadata": {},
   "outputs": [
    {
     "name": "stdout",
     "output_type": "stream",
     "text": [
      "<class 'pandas.core.frame.DataFrame'>\n",
      "RangeIndex: 15682 entries, 0 to 15681\n",
      "Data columns (total 9 columns):\n",
      " #   Column         Non-Null Count  Dtype  \n",
      "---  ------         --------------  -----  \n",
      " 0   ConstituentID  15682 non-null  int64  \n",
      " 1   DisplayName    15682 non-null  object \n",
      " 2   ArtistBio      13476 non-null  object \n",
      " 3   Nationality    15682 non-null  object \n",
      " 4   Gender         15682 non-null  object \n",
      " 5   BeginDate      15682 non-null  int64  \n",
      " 6   EndDate        5686 non-null   float64\n",
      " 7   Wiki QID       3245 non-null   object \n",
      " 8   ULAN           2930 non-null   float64\n",
      "dtypes: float64(2), int64(2), object(5)\n",
      "memory usage: 1.1+ MB\n"
     ]
    },
    {
     "data": {
      "text/plain": [
       "male                     9950\n",
       "unknown                  3272\n",
       "female                   2454\n",
       "non-binary                  3\n",
       "gender non-conforming       1\n",
       "transgender woman           1\n",
       "female (transwoman)         1\n",
       "Name: Gender, dtype: int64"
      ]
     },
     "execution_count": 8,
     "metadata": {},
     "output_type": "execute_result"
    }
   ],
   "source": [
    "artists.info()\n",
    "artists.head()\n",
    "artists['Gender'].value_counts()"
   ]
  },
  {
   "cell_type": "code",
   "execution_count": null,
   "id": "1dfa634b",
   "metadata": {},
   "outputs": [],
   "source": []
  }
 ],
 "metadata": {
  "kernelspec": {
   "display_name": "Python 3",
   "language": "python",
   "name": "python3"
  },
  "language_info": {
   "codemirror_mode": {
    "name": "ipython",
    "version": 3
   },
   "file_extension": ".py",
   "mimetype": "text/x-python",
   "name": "python",
   "nbconvert_exporter": "python",
   "pygments_lexer": "ipython3",
   "version": "3.7.3"
  }
 },
 "nbformat": 4,
 "nbformat_minor": 5
}
