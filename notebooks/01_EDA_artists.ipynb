{
 "cells": [
  {
   "cell_type": "markdown",
   "id": "3fd19a94",
   "metadata": {},
   "source": [
    "# Data Exploration – MoMA Art Dataset"
   ]
  },
  {
   "cell_type": "markdown",
   "id": "635fb6a2",
   "metadata": {},
   "source": [
    "---"
   ]
  },
  {
   "cell_type": "markdown",
   "id": "bf329b5a",
   "metadata": {},
   "source": [
    "## Data Loading"
   ]
  },
  {
   "cell_type": "code",
   "execution_count": 5,
   "id": "58a7f0bf",
   "metadata": {},
   "outputs": [],
   "source": [
    "import sys\n",
    "import os\n",
    "\n",
    "sys.path.append(os.path.abspath(os.path.join(os.getcwd(), \"..\")))"
   ]
  },
  {
   "cell_type": "code",
   "execution_count": 6,
   "id": "0430b646",
   "metadata": {},
   "outputs": [],
   "source": [
    "import importlib\n",
    "import src.data_loader as dl\n",
    "\n",
    "importlib.reload(dl)\n",
    "\n",
    "artists = dl.load_artists()"
   ]
  },
  {
   "cell_type": "markdown",
   "id": "a27215a7",
   "metadata": {},
   "source": [
    "\n",
    "## 2. General Structure\n",
    "- Dataset size\n",
    "- Columns and data types\n",
    "- First few rows"
   ]
  },
  {
   "cell_type": "code",
   "execution_count": 7,
   "id": "fa6ee67f",
   "metadata": {},
   "outputs": [
    {
     "name": "stdout",
     "output_type": "stream",
     "text": [
      "<class 'pandas.core.frame.DataFrame'>\n",
      "RangeIndex: 15682 entries, 0 to 15681\n",
      "Data columns (total 9 columns):\n",
      " #   Column         Non-Null Count  Dtype  \n",
      "---  ------         --------------  -----  \n",
      " 0   ConstituentID  15682 non-null  int64  \n",
      " 1   DisplayName    15682 non-null  object \n",
      " 2   ArtistBio      13476 non-null  object \n",
      " 3   Nationality    13180 non-null  object \n",
      " 4   Gender         12410 non-null  object \n",
      " 5   BeginDate      15682 non-null  int64  \n",
      " 6   EndDate        15682 non-null  int64  \n",
      " 7   Wiki QID       3245 non-null   object \n",
      " 8   ULAN           2930 non-null   float64\n",
      "dtypes: float64(1), int64(3), object(5)\n",
      "memory usage: 1.1+ MB\n"
     ]
    }
   ],
   "source": [
    "artists.info()"
   ]
  },
  {
   "cell_type": "code",
   "execution_count": 8,
   "id": "23399ca4",
   "metadata": {},
   "outputs": [
    {
     "data": {
      "text/html": [
       "<div>\n",
       "<style scoped>\n",
       "    .dataframe tbody tr th:only-of-type {\n",
       "        vertical-align: middle;\n",
       "    }\n",
       "\n",
       "    .dataframe tbody tr th {\n",
       "        vertical-align: top;\n",
       "    }\n",
       "\n",
       "    .dataframe thead th {\n",
       "        text-align: right;\n",
       "    }\n",
       "</style>\n",
       "<table border=\"1\" class=\"dataframe\">\n",
       "  <thead>\n",
       "    <tr style=\"text-align: right;\">\n",
       "      <th></th>\n",
       "      <th>ConstituentID</th>\n",
       "      <th>DisplayName</th>\n",
       "      <th>ArtistBio</th>\n",
       "      <th>Nationality</th>\n",
       "      <th>Gender</th>\n",
       "      <th>BeginDate</th>\n",
       "      <th>EndDate</th>\n",
       "      <th>Wiki QID</th>\n",
       "      <th>ULAN</th>\n",
       "    </tr>\n",
       "  </thead>\n",
       "  <tbody>\n",
       "    <tr>\n",
       "      <th>0</th>\n",
       "      <td>1</td>\n",
       "      <td>Robert Arneson</td>\n",
       "      <td>American, 1930–1992</td>\n",
       "      <td>American</td>\n",
       "      <td>male</td>\n",
       "      <td>1930</td>\n",
       "      <td>1992</td>\n",
       "      <td>NaN</td>\n",
       "      <td>NaN</td>\n",
       "    </tr>\n",
       "    <tr>\n",
       "      <th>1</th>\n",
       "      <td>2</td>\n",
       "      <td>Doroteo Arnaiz</td>\n",
       "      <td>Spanish, born 1936</td>\n",
       "      <td>Spanish</td>\n",
       "      <td>male</td>\n",
       "      <td>1936</td>\n",
       "      <td>0</td>\n",
       "      <td>NaN</td>\n",
       "      <td>NaN</td>\n",
       "    </tr>\n",
       "    <tr>\n",
       "      <th>2</th>\n",
       "      <td>3</td>\n",
       "      <td>Bill Arnold</td>\n",
       "      <td>American, born 1941</td>\n",
       "      <td>American</td>\n",
       "      <td>male</td>\n",
       "      <td>1941</td>\n",
       "      <td>0</td>\n",
       "      <td>NaN</td>\n",
       "      <td>NaN</td>\n",
       "    </tr>\n",
       "    <tr>\n",
       "      <th>3</th>\n",
       "      <td>4</td>\n",
       "      <td>Charles Arnoldi</td>\n",
       "      <td>American, born 1946</td>\n",
       "      <td>American</td>\n",
       "      <td>male</td>\n",
       "      <td>1946</td>\n",
       "      <td>0</td>\n",
       "      <td>Q1063584</td>\n",
       "      <td>500027998.0</td>\n",
       "    </tr>\n",
       "    <tr>\n",
       "      <th>4</th>\n",
       "      <td>5</td>\n",
       "      <td>Per Arnoldi</td>\n",
       "      <td>Danish, born 1941</td>\n",
       "      <td>Danish</td>\n",
       "      <td>male</td>\n",
       "      <td>1941</td>\n",
       "      <td>0</td>\n",
       "      <td>NaN</td>\n",
       "      <td>NaN</td>\n",
       "    </tr>\n",
       "  </tbody>\n",
       "</table>\n",
       "</div>"
      ],
      "text/plain": [
       "   ConstituentID      DisplayName            ArtistBio Nationality Gender  \\\n",
       "0              1   Robert Arneson  American, 1930–1992    American   male   \n",
       "1              2   Doroteo Arnaiz   Spanish, born 1936     Spanish   male   \n",
       "2              3      Bill Arnold  American, born 1941    American   male   \n",
       "3              4  Charles Arnoldi  American, born 1946    American   male   \n",
       "4              5      Per Arnoldi    Danish, born 1941      Danish   male   \n",
       "\n",
       "   BeginDate  EndDate  Wiki QID         ULAN  \n",
       "0       1930     1992       NaN          NaN  \n",
       "1       1936        0       NaN          NaN  \n",
       "2       1941        0       NaN          NaN  \n",
       "3       1946        0  Q1063584  500027998.0  \n",
       "4       1941        0       NaN          NaN  "
      ]
     },
     "execution_count": 8,
     "metadata": {},
     "output_type": "execute_result"
    }
   ],
   "source": [
    "artists.head()"
   ]
  },
  {
   "cell_type": "markdown",
   "id": "367f46c6",
   "metadata": {},
   "source": [
    "\n",
    "## 3. Missing Values and Data Quality"
   ]
  },
  {
   "cell_type": "code",
   "execution_count": 9,
   "id": "dbcd9474",
   "metadata": {},
   "outputs": [
    {
     "data": {
      "text/plain": [
       "ConstituentID        0\n",
       "DisplayName          0\n",
       "ArtistBio         2206\n",
       "Nationality       2502\n",
       "Gender            3272\n",
       "BeginDate            0\n",
       "EndDate              0\n",
       "Wiki QID         12437\n",
       "ULAN             12752\n",
       "dtype: int64"
      ]
     },
     "execution_count": 9,
     "metadata": {},
     "output_type": "execute_result"
    }
   ],
   "source": [
    "artists.isna().sum()"
   ]
  },
  {
   "cell_type": "code",
   "execution_count": 10,
   "id": "10a4b3ca",
   "metadata": {},
   "outputs": [
    {
     "data": {
      "text/plain": [
       "0"
      ]
     },
     "execution_count": 10,
     "metadata": {},
     "output_type": "execute_result"
    }
   ],
   "source": [
    "artists.duplicated().sum()"
   ]
  },
  {
   "cell_type": "markdown",
   "id": "00f1c224",
   "metadata": {},
   "source": [
    "## 4. Distribution and Cardinality\n",
    "- Categorical columns\n",
    "- Numerical columns: ID, beginDate, endDate, ULAN\n",
    "- Cardinality (how many unique values?)"
   ]
  },
  {
   "cell_type": "markdown",
   "id": "43cc944a",
   "metadata": {},
   "source": [
    "## 5. Dataset Relationships\n",
    "- Relationships between `Artworks` and `Artists`: only artist name\n",
    "- Possible primary/foreign keys"
   ]
  }
 ],
 "metadata": {
  "kernelspec": {
   "display_name": "Python 3",
   "language": "python",
   "name": "python3"
  },
  "language_info": {
   "codemirror_mode": {
    "name": "ipython",
    "version": 3
   },
   "file_extension": ".py",
   "mimetype": "text/x-python",
   "name": "python",
   "nbconvert_exporter": "python",
   "pygments_lexer": "ipython3",
   "version": "3.7.3"
  }
 },
 "nbformat": 4,
 "nbformat_minor": 5
}
