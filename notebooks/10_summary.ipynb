{
 "cells": [
  {
   "cell_type": "code",
   "execution_count": 2,
   "id": "9ce71f42",
   "metadata": {},
   "outputs": [
    {
     "data": {
      "text/markdown": [
       "\n",
       "# 🎯 Project Summary\n",
       "This project explores the acquisition patterns of the MoMA (Museum of Modern Art) using Machine Learning. The goal was to build a model capable of predicting whether an artwork would be acquired based on its metadata, and to investigate potential biases in these decisions.\n"
      ],
      "text/plain": [
       "<IPython.core.display.Markdown object>"
      ]
     },
     "metadata": {},
     "output_type": "display_data"
    },
    {
     "data": {
      "text/markdown": [
       "\n",
       "## 🛠 ML Pipeline\n",
       "- Data loading and cleaning (artists and artworks)\n",
       "- Feature engineering (country, gender, year, material, etc.)\n",
       "- Binary classification target: `is_acquired`\n",
       "- Model: RandomForestClassifier with preprocessing pipeline (numerical, categorical, boolean)\n",
       "- Evaluation and bias/error analysis\n"
      ],
      "text/plain": [
       "<IPython.core.display.Markdown object>"
      ]
     },
     "metadata": {},
     "output_type": "display_data"
    },
    {
     "data": {
      "text/markdown": [
       "\n",
       "## 📊 Model Performance\n"
      ],
      "text/plain": [
       "<IPython.core.display.Markdown object>"
      ]
     },
     "metadata": {},
     "output_type": "display_data"
    },
    {
     "data": {
      "text/html": [
       "<div>\n",
       "<style scoped>\n",
       "    .dataframe tbody tr th:only-of-type {\n",
       "        vertical-align: middle;\n",
       "    }\n",
       "\n",
       "    .dataframe tbody tr th {\n",
       "        vertical-align: top;\n",
       "    }\n",
       "\n",
       "    .dataframe thead th {\n",
       "        text-align: right;\n",
       "    }\n",
       "</style>\n",
       "<table border=\"1\" class=\"dataframe\">\n",
       "  <thead>\n",
       "    <tr style=\"text-align: right;\">\n",
       "      <th></th>\n",
       "      <th>precision</th>\n",
       "      <th>recall</th>\n",
       "      <th>f1-score</th>\n",
       "      <th>support</th>\n",
       "    </tr>\n",
       "  </thead>\n",
       "  <tbody>\n",
       "    <tr>\n",
       "      <th>0</th>\n",
       "      <td>0.874</td>\n",
       "      <td>0.728</td>\n",
       "      <td>0.794</td>\n",
       "      <td>1539.000</td>\n",
       "    </tr>\n",
       "    <tr>\n",
       "      <th>1</th>\n",
       "      <td>0.991</td>\n",
       "      <td>0.996</td>\n",
       "      <td>0.993</td>\n",
       "      <td>44481.000</td>\n",
       "    </tr>\n",
       "    <tr>\n",
       "      <th>accuracy</th>\n",
       "      <td>0.987</td>\n",
       "      <td>0.987</td>\n",
       "      <td>0.987</td>\n",
       "      <td>0.987</td>\n",
       "    </tr>\n",
       "    <tr>\n",
       "      <th>macro avg</th>\n",
       "      <td>0.932</td>\n",
       "      <td>0.862</td>\n",
       "      <td>0.894</td>\n",
       "      <td>46020.000</td>\n",
       "    </tr>\n",
       "    <tr>\n",
       "      <th>weighted avg</th>\n",
       "      <td>0.987</td>\n",
       "      <td>0.987</td>\n",
       "      <td>0.987</td>\n",
       "      <td>46020.000</td>\n",
       "    </tr>\n",
       "  </tbody>\n",
       "</table>\n",
       "</div>"
      ],
      "text/plain": [
       "              precision  recall  f1-score    support\n",
       "0                 0.874   0.728     0.794   1539.000\n",
       "1                 0.991   0.996     0.993  44481.000\n",
       "accuracy          0.987   0.987     0.987      0.987\n",
       "macro avg         0.932   0.862     0.894  46020.000\n",
       "weighted avg      0.987   0.987     0.987  46020.000"
      ]
     },
     "metadata": {},
     "output_type": "display_data"
    },
    {
     "data": {
      "image/png": "[encoded data removed]",
      "text/plain": [
       "<Figure size 640x480 with 2 Axes>"
      ]
     },
     "metadata": {},
     "output_type": "display_data"
    },
    {
     "data": {
      "text/markdown": [
       "\n",
       "## 🧠 Bias & Error Analysis\n",
       "- False negatives were detected: cases where the model predicted that an artwork **was not acquired**, but in reality it was.\n",
       "- These were analyzed by `gender`, `country`, `year`, `department`...\n",
       "- No FNs were found with a probability > 0.80, but several had medium-high predicted probabilities.\n"
      ],
      "text/plain": [
       "<IPython.core.display.Markdown object>"
      ]
     },
     "metadata": {},
     "output_type": "display_data"
    },
    {
     "data": {
      "text/markdown": [
       "### Top False Negatives"
      ],
      "text/plain": [
       "<IPython.core.display.Markdown object>"
      ]
     },
     "metadata": {},
     "output_type": "display_data"
    },
    {
     "data": {
      "text/html": [
       "<div>\n",
       "<style scoped>\n",
       "    .dataframe tbody tr th:only-of-type {\n",
       "        vertical-align: middle;\n",
       "    }\n",
       "\n",
       "    .dataframe tbody tr th {\n",
       "        vertical-align: top;\n",
       "    }\n",
       "\n",
       "    .dataframe thead th {\n",
       "        text-align: right;\n",
       "    }\n",
       "</style>\n",
       "<table border=\"1\" class=\"dataframe\">\n",
       "  <thead>\n",
       "    <tr style=\"text-align: right;\">\n",
       "      <th></th>\n",
       "      <th>year</th>\n",
       "      <th>material</th>\n",
       "      <th>medium</th>\n",
       "      <th>classification</th>\n",
       "      <th>country</th>\n",
       "      <th>department</th>\n",
       "      <th>y_proba</th>\n",
       "    </tr>\n",
       "  </thead>\n",
       "  <tbody>\n",
       "    <tr>\n",
       "      <th>0</th>\n",
       "      <td>1950.0</td>\n",
       "      <td>Unknown</td>\n",
       "      <td>Unknown</td>\n",
       "      <td>Mies van der Rohe Archive</td>\n",
       "      <td>USA</td>\n",
       "      <td>Architecture &amp; Design</td>\n",
       "      <td>0.494609</td>\n",
       "    </tr>\n",
       "    <tr>\n",
       "      <th>1</th>\n",
       "      <td>1871.0</td>\n",
       "      <td>Unknown</td>\n",
       "      <td>Unknown</td>\n",
       "      <td>Photograph</td>\n",
       "      <td>USA</td>\n",
       "      <td>Photography</td>\n",
       "      <td>0.490000</td>\n",
       "    </tr>\n",
       "    <tr>\n",
       "      <th>2</th>\n",
       "      <td>1928.0</td>\n",
       "      <td>Other</td>\n",
       "      <td>Tempera on poster board</td>\n",
       "      <td>Painting</td>\n",
       "      <td>USA</td>\n",
       "      <td>Film</td>\n",
       "      <td>0.487175</td>\n",
       "    </tr>\n",
       "    <tr>\n",
       "      <th>3</th>\n",
       "      <td>1957.0</td>\n",
       "      <td>Ink</td>\n",
       "      <td>Ink on paper</td>\n",
       "      <td>Mies van der Rohe Archive</td>\n",
       "      <td>USA</td>\n",
       "      <td>Architecture &amp; Design</td>\n",
       "      <td>0.477417</td>\n",
       "    </tr>\n",
       "    <tr>\n",
       "      <th>4</th>\n",
       "      <td>1870.0</td>\n",
       "      <td>Unknown</td>\n",
       "      <td>Unknown</td>\n",
       "      <td>Photograph</td>\n",
       "      <td>Other</td>\n",
       "      <td>Photography</td>\n",
       "      <td>0.470000</td>\n",
       "    </tr>\n",
       "    <tr>\n",
       "      <th>5</th>\n",
       "      <td>1960.0</td>\n",
       "      <td>Other</td>\n",
       "      <td>Pencil on acetate</td>\n",
       "      <td>Mies van der Rohe Archive</td>\n",
       "      <td>USA</td>\n",
       "      <td>Architecture &amp; Design</td>\n",
       "      <td>0.466922</td>\n",
       "    </tr>\n",
       "    <tr>\n",
       "      <th>6</th>\n",
       "      <td>1960.0</td>\n",
       "      <td>Other</td>\n",
       "      <td>Pencil on acetate</td>\n",
       "      <td>Mies van der Rohe Archive</td>\n",
       "      <td>USA</td>\n",
       "      <td>Architecture &amp; Design</td>\n",
       "      <td>0.466922</td>\n",
       "    </tr>\n",
       "    <tr>\n",
       "      <th>7</th>\n",
       "      <td>1960.0</td>\n",
       "      <td>Other</td>\n",
       "      <td>Pencil on acetate</td>\n",
       "      <td>Mies van der Rohe Archive</td>\n",
       "      <td>USA</td>\n",
       "      <td>Architecture &amp; Design</td>\n",
       "      <td>0.466922</td>\n",
       "    </tr>\n",
       "    <tr>\n",
       "      <th>8</th>\n",
       "      <td>1960.0</td>\n",
       "      <td>Other</td>\n",
       "      <td>Pencil on acetate</td>\n",
       "      <td>Mies van der Rohe Archive</td>\n",
       "      <td>USA</td>\n",
       "      <td>Architecture &amp; Design</td>\n",
       "      <td>0.466922</td>\n",
       "    </tr>\n",
       "    <tr>\n",
       "      <th>9</th>\n",
       "      <td>1960.0</td>\n",
       "      <td>Other</td>\n",
       "      <td>Pencil on acetate</td>\n",
       "      <td>Mies van der Rohe Archive</td>\n",
       "      <td>USA</td>\n",
       "      <td>Architecture &amp; Design</td>\n",
       "      <td>0.466922</td>\n",
       "    </tr>\n",
       "  </tbody>\n",
       "</table>\n",
       "</div>"
      ],
      "text/plain": [
       "     year material                   medium             classification  \\\n",
       "0  1950.0  Unknown                  Unknown  Mies van der Rohe Archive   \n",
       "1  1871.0  Unknown                  Unknown                 Photograph   \n",
       "2  1928.0    Other  Tempera on poster board                   Painting   \n",
       "3  1957.0      Ink             Ink on paper  Mies van der Rohe Archive   \n",
       "4  1870.0  Unknown                  Unknown                 Photograph   \n",
       "5  1960.0    Other        Pencil on acetate  Mies van der Rohe Archive   \n",
       "6  1960.0    Other        Pencil on acetate  Mies van der Rohe Archive   \n",
       "7  1960.0    Other        Pencil on acetate  Mies van der Rohe Archive   \n",
       "8  1960.0    Other        Pencil on acetate  Mies van der Rohe Archive   \n",
       "9  1960.0    Other        Pencil on acetate  Mies van der Rohe Archive   \n",
       "\n",
       "  country             department   y_proba  \n",
       "0     USA  Architecture & Design  0.494609  \n",
       "1     USA            Photography  0.490000  \n",
       "2     USA                   Film  0.487175  \n",
       "3     USA  Architecture & Design  0.477417  \n",
       "4   Other            Photography  0.470000  \n",
       "5     USA  Architecture & Design  0.466922  \n",
       "6     USA  Architecture & Design  0.466922  \n",
       "7     USA  Architecture & Design  0.466922  \n",
       "8     USA  Architecture & Design  0.466922  \n",
       "9     USA  Architecture & Design  0.466922  "
      ]
     },
     "metadata": {},
     "output_type": "display_data"
    },
    {
     "data": {
      "image/png": "[encoded data removed]",
      "text/plain": [
       "<Figure size 640x480 with 1 Axes>"
      ]
     },
     "metadata": {},
     "output_type": "display_data"
    },
    {
     "data": {
      "text/markdown": [
       "\n",
       "## ✅ Conclusions & Next Steps\n",
       "- The model achieved **high accuracy** due to class imbalance.\n",
       "- Most FNs had low to moderate acquisition probabilities.\n",
       "- Biases by gender or country were observed in a few cases, especially in underrepresented groups.\n",
       "\n",
       "### Next Steps\n",
       "- Improve `artist_age_at_acquisition` and temporal features.\n",
       "- Explore more sophisticated models or techniques to handle class imbalance.\n",
       "- Use the results to build artistic/curatorial visualizations of ignored or marginal artworks.\n",
       "- Export interactive tools or visuals for exhibitions or critical commentary.\n"
      ],
      "text/plain": [
       "<IPython.core.display.Markdown object>"
      ]
     },
     "metadata": {},
     "output_type": "display_data"
    }
   ],
   "source": [
    "# 10_summary.ipynb\n",
    "\n",
    "import pandas as pd\n",
    "import matplotlib.pyplot as plt\n",
    "import seaborn as sns\n",
    "\n",
    "from IPython.display import Markdown, display\n",
    "\n",
    "def markdown(text):\n",
    "    display(Markdown(text))\n",
    "\n",
    "# --- 1. Project Summary ---\n",
    "markdown(\"\"\"\n",
    "# 🎯 Project Summary\n",
    "This project explores the acquisition patterns of the MoMA (Museum of Modern Art) using Machine Learning. The goal was to build a model capable of predicting whether an artwork would be acquired based on its metadata, and to investigate potential biases in these decisions.\n",
    "\"\"\")\n",
    "\n",
    "# --- 2. Pipeline Overview ---\n",
    "markdown(\"\"\"\n",
    "## 🛠 ML Pipeline\n",
    "- Data loading and cleaning (artists and artworks)\n",
    "- Feature engineering (country, gender, year, material, etc.)\n",
    "- Binary classification target: `is_acquired`\n",
    "- Model: RandomForestClassifier with preprocessing pipeline (numerical, categorical, boolean)\n",
    "- Evaluation and bias/error analysis\n",
    "\"\"\")\n",
    "\n",
    "# --- 3. Model Performance ---\n",
    "from sklearn.metrics import classification_report, confusion_matrix\n",
    "import joblib\n",
    "\n",
    "# Load saved outputs\n",
    "X_test = joblib.load(\"../outputs/X_test.pkl\")\n",
    "y_test = joblib.load(\"../outputs/y_test.pkl\")\n",
    "y_pred = joblib.load(\"../outputs/y_pred.pkl\")\n",
    "\n",
    "markdown(\"\"\"\n",
    "## 📊 Model Performance\n",
    "\"\"\")\n",
    "\n",
    "report = classification_report(y_test, y_pred, output_dict=True)\n",
    "report_df = pd.DataFrame(report).transpose()\n",
    "display(report_df.round(3))\n",
    "\n",
    "conf_matrix = confusion_matrix(y_test, y_pred)\n",
    "sns.heatmap(conf_matrix, annot=True, fmt=\"d\", cmap=\"Blues\")\n",
    "plt.title(\"Confusion Matrix\")\n",
    "plt.xlabel(\"Predicted\")\n",
    "plt.ylabel(\"Actual\")\n",
    "plt.show()\n",
    "\n",
    "# --- 4. Bias & Error Analysis ---\n",
    "markdown(\"\"\"\n",
    "## 🧠 Bias & Error Analysis\n",
    "- False negatives were detected: cases where the model predicted that an artwork **was not acquired**, but in reality it was.\n",
    "- These were analyzed by `gender`, `country`, `year`, `department`...\n",
    "- No FNs were found with a probability > 0.80, but several had medium-high predicted probabilities.\n",
    "\"\"\")\n",
    "\n",
    "fn_df = pd.read_csv(\"../outputs/false_negatives_all.csv\")\n",
    "if not fn_df.empty:\n",
    "    markdown(\"### Top False Negatives\")\n",
    "    display(fn_df[[\"year\", \"material\", \"medium\", \"classification\", \"country\", \"department\", \"y_proba\"]].head(10))\n",
    "\n",
    "    sns.histplot(fn_df[\"y_proba\"], bins=30, kde=True)\n",
    "    plt.title(\"Probabilities for False Negatives\")\n",
    "    plt.xlabel(\"Predicted Acquisition Probability\")\n",
    "    plt.show()\n",
    "else:\n",
    "    markdown(\"No false negatives found in the dataset.\")\n",
    "\n",
    "# --- 5. Conclusions & Next Steps ---\n",
    "markdown(\"\"\"\n",
    "## ✅ Conclusions & Next Steps\n",
    "- The model achieved **high accuracy** due to class imbalance.\n",
    "- Most FNs had low to moderate acquisition probabilities.\n",
    "- Biases by gender or country were observed in a few cases, especially in underrepresented groups.\n",
    "\n",
    "### Next Steps\n",
    "- Improve `artist_age_at_acquisition` and temporal features.\n",
    "- Explore more sophisticated models or techniques to handle class imbalance.\n",
    "- Use the results to build artistic/curatorial visualizations of ignored or marginal artworks.\n",
    "- Export interactive tools or visuals for exhibitions or critical commentary.\n",
    "\"\"\")\n"
   ]
  },
  {
   "cell_type": "code",
   "execution_count": null,
   "id": "47ac1741",
   "metadata": {},
   "outputs": [],
   "source": []
  }
 ],
 "metadata": {
  "kernelspec": {
   "display_name": "Python 3",
   "language": "python",
   "name": "python3"
  },
  "language_info": {
   "codemirror_mode": {
    "name": "ipython",
    "version": 3
   },
   "file_extension": ".py",
   "mimetype": "text/x-python",
   "name": "python",
   "nbconvert_exporter": "python",
   "pygments_lexer": "ipython3",
   "version": "3.7.3"
  }
 },
 "nbformat": 4,
 "nbformat_minor": 5
}
