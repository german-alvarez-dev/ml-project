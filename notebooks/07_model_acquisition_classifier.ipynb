{
 "cells": [
  {
   "cell_type": "code",
   "execution_count": 4,
   "id": "89a42e88",
   "metadata": {},
   "outputs": [
    {
     "name": "stderr",
     "output_type": "stream",
     "text": [
      "/Users/ger/Library/Python/3.7/lib/python/site-packages/ipykernel_launcher.py:19: DtypeWarning: Columns (1,2,3,5,6,8,9,10,11,12,13,14,15,16,18,19,20) have mixed types.Specify dtype option on import or set low_memory=False.\n"
     ]
    },
    {
     "name": "stdout",
     "output_type": "stream",
     "text": [
      "Samples after dropna: 153400\n",
      "Train size: 107380\n",
      "Test size: 46020\n",
      "\n",
      "Classification Report:\n",
      "\n",
      "              precision    recall  f1-score   support\n",
      "\n",
      "           0       0.87      0.73      0.79      1539\n",
      "           1       0.99      1.00      0.99     44481\n",
      "\n",
      "    accuracy                           0.99     46020\n",
      "   macro avg       0.93      0.86      0.89     46020\n",
      "weighted avg       0.99      0.99      0.99     46020\n",
      "\n",
      "\n",
      "Confusion Matrix:\n",
      "\n",
      "[[ 1120   419]\n",
      " [  161 44320]]\n"
     ]
    },
    {
     "data": {
      "text/plain": [
       "['../outputs/X_test_raw.pkl']"
      ]
     },
     "execution_count": 4,
     "metadata": {},
     "output_type": "execute_result"
    }
   ],
   "source": [
    "import sys\n",
    "import os\n",
    "import pandas as pd\n",
    "import joblib\n",
    "\n",
    "from sklearn.model_selection import train_test_split\n",
    "from sklearn.ensemble import RandomForestClassifier\n",
    "from sklearn.metrics import classification_report, confusion_matrix\n",
    "from sklearn.preprocessing import OneHotEncoder\n",
    "from sklearn.compose import ColumnTransformer\n",
    "from sklearn.pipeline import Pipeline\n",
    "from sklearn.impute import SimpleImputer\n",
    "\n",
    "# --- Path setup ---\n",
    "sys.path.append(os.path.abspath(os.path.join(os.getcwd(), \"..\")))\n",
    "import src.data_loader as dl\n",
    "\n",
    "# --- Load data ---\n",
    "df = dl.load_artworks_enriched()\n",
    "\n",
    "# --- Target column: was this artwork acquired? ---\n",
    "df[\"is_acquired\"] = df[\"dateacquired\"].notna().astype(int)\n",
    "\n",
    "# --- Feature selection ---\n",
    "features = [\n",
    "    \"year\", \"is_known_artist\", \"is_male\", \"is_female\",\n",
    "    \"material\", \"medium\", \"classification\", \"country\", \"era\", \"department\"\n",
    "]\n",
    "\n",
    "# --- Prepare modeling DataFrame and drop rows with missing values ---\n",
    "df_model = df[features + [\"is_acquired\"]].dropna()\n",
    "print(\"Samples after dropna:\", len(df_model))\n",
    "\n",
    "# --- Split into features and target ---\n",
    "X = df_model[features]\n",
    "y = df_model[\"is_acquired\"]\n",
    "\n",
    "# --- Train-test split ---\n",
    "X_train, X_test, y_train, y_test = train_test_split(\n",
    "    X, y, test_size=0.3, random_state=42\n",
    ")\n",
    "print(\"Train size:\", len(X_train))\n",
    "print(\"Test size:\", len(X_test))\n",
    "\n",
    "# --- Preprocessing pipelines ---\n",
    "numeric_features = [\"year\"]\n",
    "categorical_features = [\"material\", \"medium\", \"classification\", \"country\", \"era\", \"department\"]\n",
    "boolean_features = [\"is_known_artist\", \"is_male\", \"is_female\"]\n",
    "\n",
    "preprocessor = ColumnTransformer(transformers=[\n",
    "    (\"num\", SimpleImputer(strategy=\"median\"), numeric_features),\n",
    "    (\"cat\", OneHotEncoder(handle_unknown=\"ignore\"), categorical_features),\n",
    "    (\"bool\", \"passthrough\", boolean_features)\n",
    "])\n",
    "\n",
    "# --- Build pipeline ---\n",
    "clf = Pipeline(steps=[\n",
    "    (\"preprocessor\", preprocessor),\n",
    "    (\"classifier\", RandomForestClassifier(n_estimators=100, random_state=42))\n",
    "])\n",
    "\n",
    "# --- Train model ---\n",
    "clf.fit(X_train, y_train)\n",
    "\n",
    "# --- Predictions and evaluation ---\n",
    "y_pred = clf.predict(X_test)\n",
    "\n",
    "print(\"\\nClassification Report:\\n\")\n",
    "print(classification_report(y_test, y_pred))\n",
    "\n",
    "print(\"\\nConfusion Matrix:\\n\")\n",
    "print(confusion_matrix(y_test, y_pred))\n",
    "\n",
    "# --- Save outputs ---\n",
    "os.makedirs(\"../outputs\", exist_ok=True)\n",
    "\n",
    "# Save model and evaluation inputs\n",
    "joblib.dump(clf, \"../outputs/classifier_pipeline.pkl\")\n",
    "joblib.dump(X_test, \"../outputs/X_test.pkl\")\n",
    "joblib.dump(y_test, \"../outputs/y_test.pkl\")\n",
    "joblib.dump(y_pred, \"../outputs/y_pred.pkl\")\n",
    "\n",
    "# Save raw test data for future bias/error analysis\n",
    "X_test_raw = df.loc[X_test.index]\n",
    "joblib.dump(X_test_raw, \"../outputs/X_test_raw.pkl\")\n"
   ]
  },
  {
   "cell_type": "code",
   "execution_count": null,
   "id": "bb0008fd",
   "metadata": {},
   "outputs": [],
   "source": []
  }
 ],
 "metadata": {
  "kernelspec": {
   "display_name": "Python 3",
   "language": "python",
   "name": "python3"
  },
  "language_info": {
   "codemirror_mode": {
    "name": "ipython",
    "version": 3
   },
   "file_extension": ".py",
   "mimetype": "text/x-python",
   "name": "python",
   "nbconvert_exporter": "python",
   "pygments_lexer": "ipython3",
   "version": "3.7.3"
  }
 },
 "nbformat": 4,
 "nbformat_minor": 5
}
