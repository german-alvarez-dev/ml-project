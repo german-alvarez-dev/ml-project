{
 "cells": [
  {
   "cell_type": "code",
   "execution_count": 2,
   "id": "517f7d79",
   "metadata": {},
   "outputs": [
    {
     "name": "stdout",
     "output_type": "stream",
     "text": [
      "WARNING: pip is being invoked by an old script wrapper. This will fail in a future version of pip.\n",
      "Please see https://github.com/pypa/pip/issues/5599 for advice on fixing the underlying issue.\n",
      "To avoid this problem you can invoke Python with '-m pip' instead of running pip directly.\n",
      "Defaulting to user installation because normal site-packages is not writeable\n",
      "Collecting gender_guesser\n",
      "  Downloading gender_guesser-0.4.0-py2.py3-none-any.whl.metadata (3.0 kB)\n",
      "Downloading gender_guesser-0.4.0-py2.py3-none-any.whl (379 kB)\n",
      "\u001b[2K   \u001b[90m━━━━━━━━━━━━━━━━━━━━━━━━━━━━━━━━━━━━━━━\u001b[0m \u001b[32m379.3/379.3 kB\u001b[0m \u001b[31m886.2 kB/s\u001b[0m eta \u001b[36m0:00:00\u001b[0ma \u001b[36m0:00:01\u001b[0m\n",
      "\u001b[?25hInstalling collected packages: gender_guesser\n",
      "Successfully installed gender_guesser-0.4.0\n",
      "male                     10765\n",
      "female                    2721\n",
      "unknown                   2190\n",
      "non-binary                   3\n",
      "gender non-conforming        1\n",
      "transgender woman            1\n",
      "female (transwoman)          1\n",
      "Name: Gender, dtype: int64\n"
     ]
    }
   ],
   "source": [
    "# 03_enrichment_artists.ipynb\n",
    "\n",
    "import sys\n",
    "import os\n",
    "import importlib\n",
    "\n",
    "!pip3 install gender_guesser\n",
    "\n",
    "import pandas as pd\n",
    "import gender_guesser.detector as gender\n",
    "\n",
    "sys.path.append(os.path.abspath(os.path.join(os.getcwd(), \"..\")))\n",
    "\n",
    "import src.data_loader as dl\n",
    "importlib.reload(dl)\n",
    "\n",
    "# Cargar datos limpiados\n",
    "df = pd.read_csv(\"../outputs/artists_clean.csv\")\n",
    "\n",
    "# Instanciar detector de género\n",
    "d = gender.Detector(case_sensitive=False)\n",
    "\n",
    "# Función para predecir género a partir del nombre de pila\n",
    "def predict_gender(name):\n",
    "    first_name = name.split()[0] if isinstance(name, str) else \"\"\n",
    "    result = d.get_gender(first_name)\n",
    "    if result in ['male', 'mostly_male']:\n",
    "        return 'male'\n",
    "    elif result in ['female', 'mostly_female']:\n",
    "        return 'female'\n",
    "    else:\n",
    "        return 'unknown'\n",
    "\n",
    "# Aplicar solo si el género original es 'unknown'\n",
    "mask_unknown = df['Gender'] == 'unknown'\n",
    "df.loc[mask_unknown, 'Gender'] = df.loc[mask_unknown, 'DisplayName'].apply(predict_gender)\n",
    "\n",
    "# Guardar resultado enriquecido\n",
    "df.to_csv(\"../outputs/artists_enriched.csv\", index=False)\n",
    "\n",
    "print(df['Gender'].value_counts())\n"
   ]
  }
 ],
 "metadata": {
  "kernelspec": {
   "display_name": "Python 3",
   "language": "python",
   "name": "python3"
  },
  "language_info": {
   "codemirror_mode": {
    "name": "ipython",
    "version": 3
   },
   "file_extension": ".py",
   "mimetype": "text/x-python",
   "name": "python",
   "nbconvert_exporter": "python",
   "pygments_lexer": "ipython3",
   "version": "3.7.3"
  }
 },
 "nbformat": 4,
 "nbformat_minor": 5
}
