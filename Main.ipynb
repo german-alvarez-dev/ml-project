{
 "cells": [
  {
   "cell_type": "code",
   "execution_count": 2,
   "id": "18ae2cf3",
   "metadata": {},
   "outputs": [],
   "source": [
    "import importlib\n",
    "import src.data_loader as dl\n",
    "\n",
    "importlib.reload(dl)\n",
    "\n",
    "artworks = dl.load_artworks()\n",
    "artists = dl.load_artists()"
   ]
  },
  {
   "cell_type": "code",
   "execution_count": null,
   "id": "c10937e1",
   "metadata": {},
   "outputs": [],
   "source": []
  }
 ],
 "metadata": {
  "kernelspec": {
   "display_name": "Python 3",
   "language": "python",
   "name": "python3"
  },
  "language_info": {
   "codemirror_mode": {
    "name": "ipython",
    "version": 3
   },
   "file_extension": ".py",
   "mimetype": "text/x-python",
   "name": "python",
   "nbconvert_exporter": "python",
   "pygments_lexer": "ipython3",
   "version": "3.7.3"
  }
 },
 "nbformat": 4,
 "nbformat_minor": 5
}
